{
 "cells": [
  {
   "cell_type": "markdown",
   "metadata": {},
   "source": [
    "# MURCHIE85 TWITTER PROCESSING \n",
    "\n",
    "&#x1F34E; **TOPIC = #BREXIT**\n",
    "\n",
    "\n",
    "## AUTOMATED RESEARCH SUMMARY\n",
    "    \n",
    "\n",
    "![image](https://static.independent.co.uk/s3fs-public/thumbnails/image/2019/03/29/17/brexit-parliament-protests-3.jpg)\n",
    "\n",
    "<br>\n",
    "\n",
    "\n",
    "<div class=\"alert alert-block alert-info\">\n",
    "<b> This repo is for pulling metrics on a given keyword or hashtag and performs a series of reporting and analysis.</b>\n",
    "</div>\n",
    "\n",
    "\n",
    "<br>\n",
    "\n",
    "\n",
    "   \n",
    "\n",
    "\n",
    "![image](BIO.png)\n",
    "\n",
    "\n",
    "Majority Remain            |  Majority Tory\n",
    ":-------------------------:|:-------------------------:\n",
    "![](LEAVE.png)  |  ![](COMPARE.png)\n",
    "\n",
    "<br>\n",
    "<br>\n",
    "\n",
    "\n",
    "The majority of tweeters on this topic describe themselves in their Bio with **'BREXIT'** , **'EU'**, **'UK'**  and **'PROUD'**. <br>\n",
    "Related terms such as **REFERENDUM** and **HARD BREXIT** no longer rank in the top 20.\n",
    "\n",
    "\n",
    "The top most popular words tweeted are :\n",
    "\n",
    "\n",
    "- **BREXIT**\n",
    "- **PARTY**\n",
    "- **VOTE**\n",
    "- **LABOUR**\n",
    "- **PEOPLE**\n",
    "- **EU**\n",
    "- **MAY**\n",
    "- **ELECTION**\n",
    "- **FARAGE**\n",
    "- **TORY**\n",
    "\n",
    "\n",
    "\n",
    "![image](TWEETS.png)\n",
    "    \n",
    "    \n",
    "### SENTIMENT ANALYSIS\n",
    "VIEWS WERE : **SUBJECTIVE**  (58.5%) & **NEGATIVELY-SUBJECTIVE** (16.5%) **OBJECTIVE** (25%)\n",
    "\n",
    "### TWEET SAMPLE \n",
    "\n",
    "Random value picked from array: \n",
    "\n",
    "\n",
    "<div class=\"alert alert-block alert-info\">\n",
    "<b>@dannydorling:</b> The lowest support for the Brexit party is among those households in the UK living on the lowest of incomes. The greatest support in found among those households with a household income of £40,000 a year or more; but, even among, them the Conservatives now poll in fourth place...\n",
    "\n",
    "</div>\n",
    "\n",
    "### MOST RETWEETED\n",
    "\n",
    "Technically the most popular tweet (note, this is not always the source of the hashtag)\n",
    "\n",
    "<div class=\"alert alert-block alert-danger\">\n",
    "<b>@derekjames150 (past 24 hours)</b>  Watching Andrew Marr's show this morning, the three women reviewing the papers were all right extolling the \"virtues\" of Nigel Farage. It was just like watching Fox News' \"Fox and Friends\" programme. The BBC is now very definitely the British Brexit Corporation.\n",
    "</div>\n",
    "\n",
    "\n",
    "\n",
    "### ANALYSIS CRITIQUE\n",
    "\n",
    "<br>\n",
    "\n",
    "This analysis is from the #Brexit tweets in the past 24 hours, #Tory's appear to be tweeting in higher numbers than any other. Of the people tweeting about #Brexit, a large majority actually use #Brexit in their Bio description. We can see that in the description, Leave appears more than remain. Conversly of the tweets #Referendum is just in the top 20 *i.e. people are not talking about this as muc has #Election.*\n",
    "\n",
    "\n",
    "<br>\n",
    "\n",
    "\n",
    "No information was removed or specially selected for apart from gramatically netural terms listed in code below i.e. `delx['THE']` removed all `the` terms from word count. There are limitations to this research covered in technical detail below, but the key issue being this report was taken after the hashtag stopped trending, it peaked at 500 tweets per minute - thus whilst this data is the complete overview, it did not show how opinions changed over time. I.e. were there changes in objectivity post completion of tweet threads.\n",
    "\n",
    "\n",
    "\n",
    "<br>\n",
    "\n",
    "\n",
    "### CONCLUSION & EXTERNAL ANALYSIS\n",
    "\n",
    "*This is my (Adam McMurchie's) opinion on the data from the tweets, it serves as no objective truth.Since the tweets themselves are a mixture of fact & opinion. \n",
    "\n",
    "<br>\n",
    "\n",
    "WILL BE UPDATED IN NEXT  24 HOURS \n",
    "\n",
    "\n",
    "<br><br>\n",
    "\n",
    "**RECOMMENDATIONS** WILL BE UPDATED IN NEXT  24 HOURS \n",
    "\n",
    "\n",
    "<br>"
   ]
  },
  {
   "cell_type": "markdown",
   "metadata": {},
   "source": [
    "# TECHNICAL WALKTHROUGH \n",
    "\n",
    "\n",
    "## OVERVIEW\n",
    "\n",
    "**SKIP TO BOTTOM FOR FULL RESULTS & GRAPH BREAKDOWN **\n",
    "\n",
    "- Pulls live tweets from all over twitter \n",
    "- Imports Tweepy Library \n",
    "- Consumes Twitter API \n",
    "- Desgined to be keyword driven\n",
    "- All metrics can be captured\n",
    "- No limit on Runtime (best to terminate when you want)\n",
    "\n",
    "## Limitations & info\n",
    "1. LOCATION filter is tricky\n",
    "2. Streaming connects to the “public streams” (all public data) \n",
    "3. This is data provided by the Twitter API which accesses their database, the maintenence of DB and thus data quality is managed by Twitter\n",
    "\n",
    "Example of parameter setting done in stream filter \n",
    "\n",
    "```\n",
    "stream.filter(follow=[\"2211149702\"])\n",
    "```\n",
    "\n",
    "\n",
    "### AUTHOR : ADAM MCMURCHIE \n",
    "\n",
    "![image](https://s3.amazonaws.com/re-work-production/avatars/1104/original.png?1485507466)\n",
    "\n",
    "Github [here](https://github.com/murchie85)  \n",
    "\n",
    "Mysite [here](https://murchie85.github.io/)"
   ]
  },
  {
   "cell_type": "markdown",
   "metadata": {},
   "source": [
    "# AUTHENTICATION\n",
    "\n",
    "You will need to change f variable to point to your credentials file, I save mines in a text file and split the comma. Not uploaded to this repo obviously."
   ]
  },
  {
   "cell_type": "code",
   "execution_count": 5,
   "metadata": {
    "collapsed": true
   },
   "outputs": [],
   "source": [
    "import datetime\n",
    "\n",
    "\n",
    "f = open(\"../donotgit/access.txt\", \"r\")\n",
    "keys = f.read()\n",
    "f.close()\n",
    "keys  = keys.split(',')\n",
    "#print(\"Access Keys are : \" + str(keys))\n",
    "ACCESS_TOKEN = keys[0]\n",
    "ACCESS_SECRET = keys[1]\n",
    "\n",
    "\n",
    "f = open(\"../donotgit/consumer.txt\", \"r\")\n",
    "keys = f.read()\n",
    "keys  = keys.split(',')\n",
    "#print(\"Consumer Keys are : \" + str(keys))\n",
    "CONSUMER_KEY = keys[0]\n",
    "CONSUMER_SECRET = keys[1]\n"
   ]
  },
  {
   "cell_type": "markdown",
   "metadata": {},
   "source": [
    "# PULLING DOWN THE DATA \n",
    "\n",
    "This is where the magic happens, api authentication is set up, tweepy library is imported for the work and a class allow us to pull live data. This is appended to array for processing later. \n",
    "\n",
    "If you want to change the parameters, edit the following line:  \n",
    "\n",
    "```\n",
    "stream.filter(track=[\"SexStrike\"],languages=[\"en\"])\n",
    "```\n",
    "\n",
    "*NOTE* -   this will just keep running until you force terminate, i haven't added in a terminate loop yet."
   ]
  },
  {
   "cell_type": "code",
   "execution_count": null,
   "metadata": {},
   "outputs": [],
   "source": [
    "from ipywidgets import IntProgress\n",
    "from IPython.display import display\n",
    "from IPython.display import clear_output\n",
    "import time\n",
    "\n",
    "import sys\n",
    "# Import the necessary package to process data in JSON format\n",
    "try:\n",
    "    import json\n",
    "except ImportError:\n",
    "    import simplejson as json\n",
    "\n",
    "# Import the tweepy library\n",
    "import tweepy\n",
    "\n",
    "# Variables that contains the user credentials to access Twitter API \n",
    "# Captured earlier \n",
    "\n",
    "# Setup tweepy to authenticate with Twitter credentials:\n",
    "\n",
    "auth = tweepy.OAuthHandler(CONSUMER_KEY, CONSUMER_SECRET)\n",
    "auth.set_access_token(ACCESS_TOKEN, ACCESS_SECRET)\n",
    "\n",
    "# Create the api to connect to twitter with your creadentials\n",
    "api = tweepy.API(auth, wait_on_rate_limit=True, wait_on_rate_limit_notify=True, compression=True)\n",
    "\n",
    "status_array = []\n",
    "\n",
    "progress = 0\n",
    "max_count = 10000\n",
    "\n",
    "f = IntProgress(description='Processing:',min=0, max=max_count,) # instantiate the bar\n",
    "display(f) # display the bar\n",
    "\n",
    "\n",
    "\n",
    "class StreamListener(tweepy.StreamListener):\n",
    "    tweet_number=0   # class variable\n",
    "    \n",
    "\n",
    "\n",
    "    def on_status(self, status):\n",
    "        self.max_tweets=max_count # max number of tweets\n",
    "        self.tweet_number+=1   \n",
    "        f.value += 1 # signal to increment the progress bar\n",
    "        progress = (f.value/max_count) * 100\n",
    "        progress = format(progress, '.2f')\n",
    "        print('Progress: ' + str(progress) + \" %\")\n",
    "        clear_output(wait=True)\n",
    "        status_array.append(status._json)\n",
    "\n",
    "        if self.tweet_number>=self.max_tweets:\n",
    "            sys.exit('PROCESSING COMPLETE : '+str(self.max_tweets)+' tweets processed.')\n",
    "\n",
    "        \n",
    "    def on_error(self, status_code):\n",
    "        if status_code == 420:\n",
    "            return False\n",
    "\n",
    "stream_listener = StreamListener()\n",
    "stream = tweepy.Stream(auth=api.auth, listener=stream_listener)\n",
    "\n",
    "#print('Pulling down data.....')\n",
    "stream.filter(track=[\"Brexit\"],languages=[\"en\"])\n"
   ]
  },
  {
   "cell_type": "code",
   "execution_count": 3,
   "metadata": {
    "scrolled": true
   },
   "outputs": [
    {
     "data": {
      "application/vnd.jupyter.widget-view+json": {
       "model_id": "14093bdcf0ef469ea0508e4702297354"
      }
     },
     "metadata": {},
     "output_type": "display_data"
    },
    {
     "name": "stdout",
     "output_type": "stream",
     "text": [
      "Pulling down data.....\n",
      "Processing complete\n"
     ]
    },
    {
     "data": {
      "text/plain": [
       "'\\n\\nf = IntProgress(min=0, max=max_count) # instantiate the bar\\ndisplay(f) # display the bar\\n\\n\\n\\nclass StreamListener(tweepy.StreamListener):\\n    tweet_number=0   # class variable\\n    \\n\\n\\n    def on_status(self, status):\\n        self.max_tweets=max_count # max number of tweets\\n        self.tweet_number+=1   \\n        f.value += 1 # signal to increment the progress bar\\n        time.sleep(.1)\\n        status_array.append(status._json)\\n\\n        if self.tweet_number>=self.max_tweets:\\n            sys.exit(\\'PROCESSING COMPLETE : \\'+str(self.max_tweets)+\\' tweets processed.\\')\\n\\n        \\n    def on_error(self, status_code):\\n        if status_code == 420:\\n            return False\\n\\nstream_listener = StreamListener()\\nstream = tweepy.Stream(auth=api.auth, listener=stream_listener)\\n\\nprint(\\'Pulling down data.....\\')\\nstream.filter(track=[\"#Alabama\"],languages=[\"en\"])\\n\\n'"
      ]
     },
     "execution_count": 3,
     "metadata": {},
     "output_type": "execute_result"
    }
   ],
   "source": [
    "# HISTORICAL DATA SWITCHED OFF (IF YOU SWITCH ON, THEN SWITCH STREAM OFF ABOVE)\n",
    "\n",
    "\n",
    "\"\"\"\n",
    "\n",
    "from ipywidgets import IntProgress\n",
    "from IPython.display import display\n",
    "import time\n",
    "\n",
    "import sys\n",
    "# Import the necessary package to process data in JSON format\n",
    "try:\n",
    "    import json\n",
    "except ImportError:\n",
    "    import simplejson as json\n",
    "\n",
    "# Import the tweepy library\n",
    "import tweepy\n",
    "\n",
    "# Variables that contains the user credentials to access Twitter API \n",
    "# Captured earlier \n",
    "\n",
    "# Setup tweepy to authenticate with Twitter credentials:\n",
    "\n",
    "auth = tweepy.OAuthHandler(CONSUMER_KEY, CONSUMER_SECRET)\n",
    "auth.set_access_token(ACCESS_TOKEN, ACCESS_SECRET)\n",
    "\n",
    "# Create the api to connect to twitter with your creadentials\n",
    "api = tweepy.API(auth, wait_on_rate_limit=True, wait_on_rate_limit_notify=True, compression=True)\n",
    "\n",
    "\n",
    "\n",
    "\n",
    "\n",
    "\n",
    "\n",
    "\n",
    "\n",
    "status_array = []\n",
    "LOOP_COUNT = 0\n",
    "max_count = 10000\n",
    "\n",
    "\n",
    "# Search for 10 most recent tweets about \"Brexit\"\n",
    "tweets = tweepy.Cursor(api.search, q='SexStrike', count=int(max_count))\n",
    "\n",
    "# TRACK PROGRESS\n",
    "f = IntProgress(min=0, max=max_count) # instantiate the bar\n",
    "display(f) # display the bar\n",
    "\n",
    "\n",
    "print('Pulling down data.....')                    \n",
    "for tweet in tweets.items(int(max_count)):\n",
    "    f.value+=1\n",
    "    time.sleep(.1)\n",
    "    status_array.append(tweet._json)\n",
    "\n",
    "\n",
    "\n",
    "print('Processing complete')\n",
    "\n",
    "\"\"\""
   ]
  },
  {
   "cell_type": "markdown",
   "metadata": {},
   "source": [
    "# PRINT AND SAVE DATA\n",
    "\n",
    "This section allows me to pull the recently mined data into a file in raw format incase i need it later."
   ]
  },
  {
   "cell_type": "code",
   "execution_count": 13,
   "metadata": {},
   "outputs": [
    {
     "name": "stdout",
     "output_type": "stream",
     "text": [
      "data/streamout-2019-05-19 09:23:52.968752.txt\n"
     ]
    }
   ],
   "source": [
    "currentDT = datetime.datetime.now()\n",
    "filename = \"data/streamout-\" + str(currentDT) + \".txt\"\n",
    "\n",
    "print(filename)\n",
    "\n",
    "with open(filename, 'w') as f:\n",
    "    for item in status_array:\n",
    "        f.write(\"%s\\n\" % item)\n",
    "f.close()"
   ]
  },
  {
   "cell_type": "markdown",
   "metadata": {},
   "source": [
    "# STREAM METADATA"
   ]
  },
  {
   "cell_type": "code",
   "execution_count": 36,
   "metadata": {},
   "outputs": [
    {
     "name": "stdout",
     "output_type": "stream",
     "text": [
      "Number of records\n",
      "5498\n",
      "\n",
      "The data keys are : \n",
      "dict_keys(['created_at', 'id', 'id_str', 'text', 'source', 'truncated', 'in_reply_to_status_id', 'in_reply_to_status_id_str', 'in_reply_to_user_id', 'in_reply_to_user_id_str', 'in_reply_to_screen_name', 'user', 'geo', 'coordinates', 'place', 'contributors', 'retweeted_status', 'quoted_status_id', 'quoted_status_id_str', 'quoted_status', 'quoted_status_permalink', 'is_quote_status', 'quote_count', 'reply_count', 'retweet_count', 'favorite_count', 'entities', 'favorited', 'retweeted', 'filter_level', 'lang', 'timestamp_ms'])\n",
      "\n"
     ]
    }
   ],
   "source": [
    "print('Number of records')\n",
    "print(len(status_array))\n",
    "print('')\n",
    "print('The data keys are : ')\n",
    "print(status_array[0].keys())\n",
    "print('')\n",
    "#print('An example element looks like: ')\n",
    "#print(status_array[0])"
   ]
  },
  {
   "cell_type": "markdown",
   "metadata": {},
   "source": [
    "# REPORT GENERATION"
   ]
  },
  {
   "cell_type": "code",
   "execution_count": 15,
   "metadata": {
    "scrolled": true
   },
   "outputs": [
    {
     "name": "stdout",
     "output_type": "stream",
     "text": [
      "=========================SAMPLE OUTPUT================================\n",
      "************************************************************\n",
      "RT @BremainInSpain: Brexit Party fundraiser is ‘Posh George’, once jailed in US after money-laundering sting \n",
      "\n",
      "https://t.co/SRma2PQaJd\n",
      "------------------------------\n",
      "Sun May 19 08:19:50 +0000 2019\n",
      "------------------------------\n",
      "𝔃𝓲𝓴𝓸𝓶𝓸 𝔃𝓲𝓶  🐘 🇿🇼🏴󠁧󠁢󠁳󠁣󠁴󠁿🇪🇺\n",
      "------------------------------\n",
      "Africa, Scotland, EU\n",
      "------------------------------\n",
      "Funtoo user & supporter. SNP. Very old OU student STEM. p/t student Arabic & Russian so R ≠ Я. Play cricket & hug an #Elephant. Freedom & Peace to all #Yazidi.\n",
      "--------------REPLY COUNT----------------\n",
      "0\n",
      "--------------RETWEET COUNT----------------\n",
      "0\n",
      "--------------RETWEETED?----------------\n",
      "False\n",
      "--------------RETWEET COUNT----------------\n",
      "0\n",
      "--------------FAVOURITED----------------\n",
      "False\n",
      "--------------FAVOURITE COUNT----------------\n",
      "0\n"
     ]
    }
   ],
   "source": [
    "# WRITE OUT FULL REPORT\n",
    "reportfile = \"reports/printout-\"+ str(currentDT) + \".txt\"\n",
    "descriptionfile = \"data/description/printout-\"+ str(currentDT) + \".txt\"\n",
    "tweetfile = \"data/tweet/printout-\"+ str(currentDT) + \".txt\"\n",
    "\n",
    "REPORTCOUNT = 0\n",
    "with open(reportfile, 'w') as f:\n",
    "    for y in range(0, len(status_array)):\n",
    "        REPORTCOUNT = REPORTCOUNT + 1\n",
    "        f.write('************************************************************\\n')\n",
    "        f.write(status_array[y]['text'])\n",
    "        f.write('------------------------------\\n')\n",
    "        f.write(status_array[y]['created_at'])\n",
    "        f.write('------------------------------\\n')\n",
    "        f.write(status_array[y]['user']['name'])\n",
    "        f.write('------------------------------\\n')\n",
    "        f.write(str(status_array[y]['user']['location']))\n",
    "        f.write('------------------------------\\n')\n",
    "        f.write(str(status_array[y]['user']['description']))\n",
    "        f.write('--------------REPLY COUNT----------------\\n|')\n",
    "        f.write(str(status_array[y]['reply_count']))\n",
    "        f.write('--------------RETWEET COUNT----------------\\n')\n",
    "        f.write(str(status_array[y]['retweet_count']))\n",
    "        f.write('--------------RETWEETED?----------------\\n')\n",
    "        f.write(str(status_array[y]['retweeted']))\n",
    "        f.write('--------------RETWEET COUNT----------------\\n')\n",
    "        f.write(str(status_array[y]['retweet_count']))\n",
    "        f.write('--------------FAVOURITED----------------\\n')\n",
    "        f.write(str(status_array[y]['favorited']))\n",
    "        f.write('--------------FAVOURITE COUNT----------------\\n')\n",
    "        f.write(str(status_array[y]['favorite_count']))\n",
    "        f.write('\\n')\n",
    "        f.write('\\n')\n",
    "    f.write('number of records are : ')\n",
    "    f.write(str(REPORTCOUNT))\n",
    "        \n",
    "f.close()\n",
    "    \n",
    "    \n",
    "# WRITE OUT ONLY DESCRIPTION\n",
    "    \n",
    "REPORTCOUNT = 0\n",
    "with open(descriptionfile, 'w') as f:\n",
    "    for y in range(0, len(status_array)):\n",
    "        REPORTCOUNT = REPORTCOUNT + 1\n",
    "        f.write('************************************************************\\n')\n",
    "        f.write(str(status_array[y]['user']['description']))\n",
    "        f.write('\\n')\n",
    "    f.write('number of records are : ')\n",
    "    f.write(str(REPORTCOUNT))\n",
    "        \n",
    "f.close()\n",
    "    \n",
    "\n",
    "# WRITE OUT ONLY TWEET\n",
    "    \n",
    "REPORTCOUNT = 0\n",
    "with open(tweetfile, 'w') as f:\n",
    "    for y in range(0, len(status_array)):\n",
    "        REPORTCOUNT = REPORTCOUNT + 1\n",
    "        f.write('************************************************************\\n')\n",
    "        f.write(status_array[y]['text'])\n",
    "        f.write('\\n')\n",
    "    f.write('number of records are : ')\n",
    "    f.write(str(REPORTCOUNT))\n",
    "        \n",
    "f.close()\n",
    "\n",
    "    \n",
    "    \n",
    "    \n",
    "    \n",
    "    \n",
    "print('=========================SAMPLE OUTPUT================================')\n",
    "print('************************************************************')\n",
    "print(status_array[0]['text'])\n",
    "print('------------------------------')\n",
    "print(status_array[0]['created_at'])\n",
    "print('------------------------------')\n",
    "print(status_array[0]['user']['name'])\n",
    "print('------------------------------')\n",
    "print(status_array[0]['user']['location'])\n",
    "print('------------------------------')\n",
    "print(status_array[0]['user']['description'])\n",
    "print('--------------REPLY COUNT----------------')\n",
    "print(status_array[0]['reply_count'])\n",
    "print('--------------RETWEET COUNT----------------')\n",
    "print(status_array[0]['retweet_count'])\n",
    "print('--------------RETWEETED?----------------') \n",
    "print(status_array[0]['retweeted'])\n",
    "print('--------------RETWEET COUNT----------------')\n",
    "print(status_array[0]['retweet_count'])\n",
    "print('--------------FAVOURITED----------------')\n",
    "print(status_array[0]['favorited'])\n",
    "print('--------------FAVOURITE COUNT----------------')\n",
    "print(status_array[0]['favorite_count'])\n",
    "\n"
   ]
  },
  {
   "cell_type": "markdown",
   "metadata": {},
   "source": [
    "## USER DESCRIPTION NUMERICAL ANALYSIS\n",
    "\n",
    "Change the below values to see how they rank in tweet frequency **YOU DON'T NEED TO WORRY ABOUT CASE SENSITIVITY IN WORDING**, that is covered in the code.\n",
    "\n",
    "```\n",
    "WORDONE=''\n",
    "WORDTWO=''\n",
    "WORDTHREE=''\n",
    "```"
   ]
  },
  {
   "cell_type": "code",
   "execution_count": 238,
   "metadata": {},
   "outputs": [
    {
     "name": "stdout",
     "output_type": "stream",
     "text": [
      "Total count of words - TORY :181\n",
      "Total count of words - LABOUR :141\n",
      "Total count of words - LIBDEM :40\n",
      "Total count of words - UKIP :33\n",
      "Total count of words - GREEN PARTY :14\n",
      "Total count of words - GREENS :6\n",
      "Total count of words - REFERENDUM :13\n",
      "Total count of words - LEAVE :108\n",
      "Total count of words - REMAIN :184\n",
      "Total count of words - FARAGE :8\n",
      "Total Number of Records: 5498\n"
     ]
    }
   ],
   "source": [
    "\n",
    "WORDONE='tory'\n",
    "WORDTWO='labour'\n",
    "WORDTHREE='libdem'\n",
    "WORDFOUR = 'ukip'\n",
    "WORDFIVE = 'Green party'\n",
    "WORDSIX = 'greens'\n",
    "WORDSEVEN = 'referendum'\n",
    "WORDEIGHT = 'leave'\n",
    "WORDNINE = 'remain'\n",
    "WORDTEN = 'farage'\n",
    "\n",
    "\n",
    "\n",
    "\n",
    "WORDONE= WORDONE.upper()\n",
    "WORDTWO= WORDTWO.upper()\n",
    "WORDTHREE=WORDTHREE.upper()\n",
    "WORDFOUR = WORDFOUR.upper()\n",
    "WORDFIVE = WORDFIVE.upper()\n",
    "WORDSIX = WORDSIX.upper()\n",
    "WORDSEVEN = WORDSEVEN.upper()\n",
    "WORDEIGHT = WORDEIGHT.upper()\n",
    "WORDNINE = WORDNINE.upper()\n",
    "WORDTEN = WORDTEN.upper()\n",
    "\n",
    "\n",
    "\n",
    "\n",
    "\n",
    "\n",
    "WORDONE_COUNT = 0\n",
    "WORDTWO_COUNT = 0 \n",
    "WORDTHREE_COUNT = 0 \n",
    "WORDFOUR_COUNT = 0\n",
    "WORDFIVE_COUNT = 0\n",
    "WORDSIX_COUNT = 0\n",
    "WORDSEVEN_COUNT= 0\n",
    "WORDEIGHT_COUNT= 0\n",
    "WORDNINE_COUNT = 0\n",
    "WORDTEN_COUNT = 0\n",
    "\n",
    "\n",
    "linecount = 0\n",
    "APPENDED_DESCRIPTION = \"\"\n",
    "\n",
    "\n",
    "\n",
    "for x in range(0, len(status_array)):\n",
    "    linecount = linecount + 1\n",
    "    description = str(status_array[x]['user']['description']).upper()\n",
    "    APPENDED_DESCRIPTION = APPENDED_DESCRIPTION + str(description)\n",
    "    \n",
    "    \n",
    "    if str(description).count(str(WORDONE)) >= 1:\n",
    "        WORDONE_COUNT = WORDONE_COUNT + 1\n",
    "    if str(description).count(str(WORDTWO)) >= 1:\n",
    "        WORDTWO_COUNT = WORDTWO_COUNT + 1\n",
    "    if str(description).count(str(WORDTHREE)) >= 1:\n",
    "        WORDTHREE_COUNT = WORDTHREE_COUNT + 1\n",
    "    if str(description).count(str(WORDFOUR)) >= 1:\n",
    "        WORDFOUR_COUNT = WORDFOUR_COUNT + 1\n",
    "    if str(description).count(str(WORDFIVE)) >= 1:\n",
    "        WORDFIVE_COUNT = WORDFIVE_COUNT + 1\n",
    "    if str(description).count(str(WORDSIX)) >= 1:\n",
    "        WORDSIX_COUNT = WORDSIX_COUNT + 1\n",
    "    if str(description).count(str(WORDSEVEN)) >= 1:\n",
    "        WORDSEVEN_COUNT = WORDSEVEN_COUNT + 1\n",
    "    if str(description).count(str(WORDEIGHT)) >= 1:\n",
    "        WORDEIGHT_COUNT = WORDEIGHT_COUNT + 1\n",
    "    if str(description).count(str(WORDNINE)) >= 1:\n",
    "        WORDNINE_COUNT = WORDNINE_COUNT + 1\n",
    "    if str(description).count(str(WORDTEN)) >= 1:\n",
    "        WORDTEN_COUNT = WORDTEN_COUNT + 1\n",
    "\n",
    "      \n",
    "      \n",
    "        \n",
    "print('Total count of words - ' + str(WORDONE) + ' :' + str(WORDONE_COUNT))\n",
    "print('Total count of words - ' + str(WORDTWO) + ' :' + str(WORDTWO_COUNT))\n",
    "print('Total count of words - ' + str(WORDTHREE) + ' :' + str(WORDTHREE_COUNT))\n",
    "print('Total count of words - ' + str(WORDFOUR) + ' :' + str(WORDFOUR_COUNT))\n",
    "print('Total count of words - ' + str(WORDFIVE) + ' :' + str(WORDFIVE_COUNT))\n",
    "print('Total count of words - ' + str(WORDSIX) + ' :' + str(WORDSIX_COUNT))\n",
    "print('Total count of words - ' + str(WORDSEVEN) + ' :' + str(WORDSEVEN_COUNT))\n",
    "print('Total count of words - ' + str(WORDEIGHT) + ' :' + str(WORDEIGHT_COUNT))\n",
    "print('Total count of words - ' + str(WORDNINE) + ' :' + str(WORDNINE_COUNT))\n",
    "print('Total count of words - ' + str(WORDTEN) + ' :' + str(WORDTEN_COUNT))\n",
    "print('Total Number of Records: ' + str(linecount)) \n",
    "\n",
    "\n",
    "APPENDED_DESCRIPTION = APPENDED_DESCRIPTION.replace('#', '')\n",
    "APPENDED_DESCRIPTION = APPENDED_DESCRIPTION.replace('.', '')\n",
    "APPENDED_DESCRIPTION = APPENDED_DESCRIPTION.replace(',', '')\n",
    "APPENDED_DESCRIPTION = APPENDED_DESCRIPTION.replace(',', '')"
   ]
  },
  {
   "cell_type": "markdown",
   "metadata": {},
   "source": [
    "## BESPOKE VISUALIZATION"
   ]
  },
  {
   "cell_type": "code",
   "execution_count": 242,
   "metadata": {},
   "outputs": [
    {
     "data": {
      "image/png": "[encoded data removed]",
      "text/plain": [
       "<matplotlib.figure.Figure at 0x10e97eb00>"
      ]
     },
     "metadata": {},
     "output_type": "display_data"
    }
   ],
   "source": [
    "\n",
    "B = {str(WORDONE):int(WORDONE_COUNT), \n",
    "     str(WORDTWO):int(WORDTWO_COUNT),\n",
    "    str(WORDTHREE):int(WORDTHREE_COUNT),\n",
    "    str(WORDFOUR):int(WORDFOUR_COUNT),\n",
    "    str(WORDFIVE):int(WORDFIVE_COUNT)}\n",
    "\n",
    "\n",
    "\n",
    "plt.bar(range(len(B)), list(B.values()), align='center', alpha=0.5, color=('#ff8c66'),  edgecolor='blue')\n",
    "\n",
    "plt.xticks(range(len(B)), list(B.keys()), rotation='horizontal')\n",
    "plt.title(\"Tweeters Bio - Most popular Self Description\", fontsize=30)\n",
    "plt.ylabel('Number of Occurrences (thousands)', fontsize=18)\n",
    "#plt.xlabel('These are the words in which Tweeters describe themselves', horizontalalignment='left', position=(0,25), fontsize=18)\n",
    "plt.rcParams[\"figure.figsize\"] = (20,10)\n",
    "#plt.savefig(\"BESPOKE\", bbox_inches=\"tight\")\n",
    "plt.savefig(\"COMPARE\")\n",
    "plt.show()"
   ]
  },
  {
   "cell_type": "code",
   "execution_count": 153,
   "metadata": {
    "scrolled": true
   },
   "outputs": [
    {
     "name": "stdout",
     "output_type": "stream",
     "text": [
      "OrderedDict([('BREXIT', 468), ('VIEWS', 253), ('LOVE', 251), ('EU', 213), ('POLITICS', 201), ('PARTY', 165), ('FAN', 156), ('PROUD', 149), ('UK', 148), ('MUSIC', 144), ('FBPE', 142), ('MEMBER', 138), ('PEOPLE', 137), ('COUNTRY', 132), ('SUPPORTER', 130), ('EUROPEAN', 128), ('LOVER', 114), ('EUROPE', 109), ('HATE', 108), ('WORLD', 107)])\n"
     ]
    }
   ],
   "source": [
    "from collections import Counter, OrderedDict\n",
    "DISC = APPENDED_DESCRIPTION.split()\n",
    "x = Counter(DISC)\n",
    "del x['⠀'],x['AND'],x['THE'],x['OF'],x['TO'],x['A'],x['IN'],x['&'],x['MY'],x['FOR'],x['I'],x['NOT'],x['IS'],x['ARE']\n",
    "del x['WITH'],x['ALL'],x['ON'],x['-'],x['YOU'],x['BY'],x['IT'],x['NO'],x['OR'],x['OWN'],x['THAT'],x['AT'],x['BE'],x['|'],x['WILL'],\n",
    "del x['BUT'],x['AN'],x['ABOUT'],x['AS'],x['FROM'],x['WHO'],x['ME'],x['WE'],x['HAVE'],x['OUR'],x['AM'],x['LIKE'],x['JUST']\n",
    "del x['THIS'],x['THEY'],x['IF'],x['HAS'],x['&AMP'],x['HAS'],x['CAN'],x['NOW'],x['SO'],x['ONLY'],x['WAS'],x['WHAT'],x['THEIR'],x['YOUR'],x['WOULD']\n",
    "del x['DO'],x['&AMP;'],x['ONE'],x['WANT'],x['BEEN'],x['THEM'],x['MORE']\n",
    "\n",
    "top_bio_desc = OrderedDict(x.most_common(20))\n",
    "print(top_bio_desc)\n"
   ]
  },
  {
   "cell_type": "code",
   "execution_count": 167,
   "metadata": {},
   "outputs": [
    {
     "data": {
      "image/png": "[encoded data removed]",
      "text/plain": [
       "<matplotlib.figure.Figure at 0x114ecb278>"
      ]
     },
     "metadata": {},
     "output_type": "display_data"
    }
   ],
   "source": [
    "import matplotlib.pyplot as plt\n",
    "\n",
    "D = top_bio_desc\n",
    "\n",
    "plt.bar(range(len(D)), list(D.values()), align='center', color=(0.1, 0.5, 1, 0.1),  edgecolor='blue')\n",
    "\n",
    "plt.xticks(range(len(D)), list(D.keys()), rotation='vertical')\n",
    "plt.title(\"Tweeters Bio - Most popular Self Description\", fontsize=30)\n",
    "plt.ylabel('Number of Occurrences (thousands)', fontsize=18)\n",
    "plt.xlabel('These are the words in which Tweeters describe themselves', horizontalalignment='left', position=(0,25), fontsize=18)\n",
    "plt.rcParams[\"figure.figsize\"] = (20,10)\n",
    "plt.savefig(\"BIO\", bbox_inches=\"tight\")\n",
    "plt.show()"
   ]
  },
  {
   "cell_type": "markdown",
   "metadata": {},
   "source": [
    "## TWEET NUMERICAL ANALYSIS\n",
    "\n",
    "Change the below values to see how they rank in tweet frequency,  **YOU DON'T NEED TO WORRY ABOUT CASE SENSITIVITY IN WORDING**, that is covered in the code.\n",
    "\n",
    "```\n",
    "WORDONE=''\n",
    "WORDTWO=''\n",
    "WORDTHREE=''\n",
    "```"
   ]
  },
  {
   "cell_type": "code",
   "execution_count": 155,
   "metadata": {
    "scrolled": false
   },
   "outputs": [
    {
     "name": "stdout",
     "output_type": "stream",
     "text": [
      "Total count of words - BREXIT :3309\n",
      "Total count of words - TORY :293\n",
      "Total count of words - LABOUR :757\n",
      "Total Number of Records: 5498\n"
     ]
    }
   ],
   "source": [
    "WORDONE='Brexit'\n",
    "WORDTWO='Tory'\n",
    "WORDTHREE='Labour'\n",
    "\n",
    "WORDONE_COUNT = 0\n",
    "WORDTWO_COUNT = 0 \n",
    "WORDTHREE_COUNT = 0 \n",
    "\n",
    "\n",
    "\n",
    "WORDONE= WORDONE.upper()\n",
    "WORDTWO= WORDTWO.upper()\n",
    "WORDTHREE=WORDTHREE.upper()\n",
    "\n",
    "\n",
    "\n",
    "linecount = 0\n",
    "APPENDED_TEXT = \"\"\n",
    "\n",
    "\n",
    "for x in range(0, len(status_array)):\n",
    "    linecount = linecount + 1\n",
    "    text = str(status_array[x]['text']).upper()\n",
    "    APPENDED_TEXT = APPENDED_TEXT + str(text)\n",
    "    \n",
    "    \n",
    "    if str(text).count(str(WORDONE)) >= 1:\n",
    "        WORDONE_COUNT = WORDONE_COUNT + 1\n",
    "\n",
    "    if str(text).count(str(WORDTWO)) >= 1:\n",
    "        WORDTWO_COUNT = WORDTWO_COUNT + 1\n",
    "\n",
    "    if str(text).count(str(WORDTHREE)) >= 1:\n",
    "        WORDTHREE_COUNT = WORDTHREE_COUNT + 1\n",
    "        \n",
    "print('Total count of words - ' + str(WORDONE) + ' :' + str(WORDONE_COUNT))\n",
    "print('Total count of words - ' + str(WORDTWO) + ' :' + str(WORDTWO_COUNT))\n",
    "print('Total count of words - ' + str(WORDTHREE) + ' :' + str(WORDTHREE_COUNT))\n",
    "print('Total Number of Records: ' + str(linecount))\n",
    "APPENDED_TEXT = APPENDED_TEXT.replace('#', '')\n",
    "APPENDED_TEXT = APPENDED_TEXT.replace('.', '')\n",
    "APPENDED_TEXT = APPENDED_TEXT.replace(',', '')\n",
    "APPENDED_TEXT = APPENDED_TEXT.replace(',', '')\n"
   ]
  },
  {
   "cell_type": "code",
   "execution_count": 156,
   "metadata": {},
   "outputs": [
    {
     "data": {
      "text/plain": [
       "703038"
      ]
     },
     "execution_count": 156,
     "metadata": {},
     "output_type": "execute_result"
    }
   ],
   "source": [
    "len(APPENDED_TEXT)"
   ]
  },
  {
   "cell_type": "code",
   "execution_count": 157,
   "metadata": {},
   "outputs": [
    {
     "name": "stdout",
     "output_type": "stream",
     "text": [
      "OrderedDict([('BREXIT', 2748), ('PARTY', 1281), ('VOTE', 828), ('LABOUR', 684), ('PEOPLE', 364), ('EU', 319), ('MAY', 269), ('ELECTION', 267), ('FARAGE', 267), ('VOTING', 236), ('DEAL', 226), ('TORIES', 219), ('UK', 200), ('VOTERS', 197), ('LIB', 194), ('ELECTIONS', 193), ('TORY', 192), ('REMAIN', 183), ('NIGEL', 171), ('REFERENDUM', 171)])\n"
     ]
    }
   ],
   "source": [
    "from collections import Counter, OrderedDict\n",
    "DISC = APPENDED_TEXT.split()\n",
    "x = Counter(DISC)\n",
    "del x['⠀'],x['AND'],x['THE'],x['OF'],x['TO'],x['A'],x['IN'],x['&'],x['MY'],x['FOR'],x['I'],x['NOT'],x['IS'],x['ARE']\n",
    "del x['WITH'],x['ALL'],x['ON'],x['-'],x['YOU'],x['BY'],x['IT'],x['NO'],x['OR'],x['OWN'],x['THAT'],x['AT'],x['BE'],x['|'],x['WILL'],\n",
    "del x['BUT'],x['AN'],x['ABOUT'],x['AS'],x['FROM'],x['WHO'],x['ME'],x['WE'],x['HAVE'],x['OUR'],x['AM'],x['LIKE'],x['JUST']\n",
    "del x['THIS'],x['THEY'],x['IF'],x['HAS'],x['&AMP'],x['HAS'],x['CAN'],x['NOW'],x['SO'],x['ONLY'],x['WAS'],x['WHAT'],x['THEIR'],x['YOUR'],x['WOULD']\n",
    "del x['DO'],x['&AMP;'],x['ONE'],x['WANT'],x['BEEN'],x['THEM'],x['MORE']\n",
    "\n",
    "\n",
    "top_tweets = OrderedDict(x.most_common(20))\n",
    "print(top_tweets)\n"
   ]
  },
  {
   "cell_type": "code",
   "execution_count": 158,
   "metadata": {},
   "outputs": [
    {
     "data": {
      "image/png": "[encoded data removed]",
      "text/plain": [
       "<matplotlib.figure.Figure at 0x114193080>"
      ]
     },
     "metadata": {},
     "output_type": "display_data"
    }
   ],
   "source": [
    "import matplotlib.pyplot as plt\n",
    "\n",
    "E = top_tweets\n",
    "\n",
    "color_last = [(0.1, 0.1, 0.1, 0.1), (0.1, 0.1, 0.1, 0.1),(0.1, 0.1, 0.1, 0.1),(0.1, 0.1, 0.1, 0.1),(0.1, 0.1, 0.1, 0.1),(0.1, 0.1, 0.1, 0.1),(0.1, 0.1, 0.1, 0.1),(0.1, 0.1, 0.1, 0.1),(0.1, 0.1, 0.1, 0.1),(0.1, 0.1, 0.1, 0.1),(0.1, 0.1, 0.1, 0.1),(0.1, 0.1, 0.1, 0.1),(0.1, 0.1, 0.1, 0.1),(0.1, 0.1, 0.1, 0.1),(0.1, 0.1, 0.1, 0.1),(0.1, 0.1, 0.1, 0.1),(0.1, 0.1, 0.1, 0.1),(0.1, 0.1, 0.1, 0.1),(0.1, 0.1, 0.1, 0.1),'red']\n",
    "color = (0.1, 0.1, 0.1, 0.1)\n",
    "plt.bar(range(len(E)), list(E.values()), align='center', color=color_last,  edgecolor='blue')\n",
    "\n",
    "plt.xticks(range(len(E)), list(E.keys()), rotation='vertical')\n",
    "plt.title(\"Most Frequently Tweeted Words\", fontsize=30)\n",
    "plt.ylabel('Number of Occurrences (thousands)', fontsize=18)\n",
    "plt.xlabel('Tweeted term by Frequency', fontsize=18)\n",
    "plt.rcParams[\"figure.figsize\"] = (20,10)\n",
    "plt.savefig(\"TWEETS\", bbox_inches=\"tight\")\n",
    "plt.show()\n"
   ]
  },
  {
   "cell_type": "markdown",
   "metadata": {
    "collapsed": true
   },
   "source": [
    "# SENTIMENT ANALYSIS \n",
    "\n",
    "The sentiment property returns a named tuple of the form Sentiment (polarity, subjectivity). The polarity score is a float within the range [-1.0, 1.0]. The subjectivity is a float within the range [0.0, 1.0] where 0.0 is very objective and 1.0 is very subjective.\n",
    "\n",
    "# Now the Theory\n",
    "Thanks to Siraj Raval and freecode camp for the sample here\n",
    "\n",
    "TextBlob\n",
    "TextBlob is a Python (2 and 3) library for processing textual data. It provides a simple API for diving into common natural language processing (NLP) tasks such as part-of-speech tagging, noun phrase extraction, sentiment analysis, classification, translation, and more.\n",
    "\n",
    "A textblob can be created in the following way (example, and not part of the original code):\n",
    "\n",
    "example = TextBlob(\"Python is a high-level, general-purpose programming language.\")\n",
    "And tokenization can be performed by the following methods:\n",
    "words: returns the words of text\n",
    "\n",
    "usage:\n",
    "\n",
    "example.words\n",
    "sentences: returns the sentences of text\n",
    "\n",
    "usage:\n",
    "\n",
    "example.sentences\n"
   ]
  },
  {
   "cell_type": "code",
   "execution_count": 6,
   "metadata": {
    "collapsed": true
   },
   "outputs": [],
   "source": [
    "from textblob import TextBlob\n",
    "import tweepy\n"
   ]
  },
  {
   "cell_type": "code",
   "execution_count": 7,
   "metadata": {},
   "outputs": [],
   "source": [
    "auth = tweepy.OAuthHandler(CONSUMER_KEY, CONSUMER_SECRET)\n",
    "auth.set_access_token(ACCESS_TOKEN, ACCESS_SECRET)\n",
    "api = tweepy.API(auth)"
   ]
  },
  {
   "cell_type": "code",
   "execution_count": 8,
   "metadata": {
    "collapsed": true
   },
   "outputs": [],
   "source": [
    "public_tweets = api.search('Brexit')"
   ]
  },
  {
   "cell_type": "code",
   "execution_count": 9,
   "metadata": {},
   "outputs": [
    {
     "name": "stdout",
     "output_type": "stream",
     "text": [
      "Starmer blames 'wannabe Tory leaders' for Brexit talks failure\n",
      "https://t.co/DG5Ef2G2kk\n",
      "Sentiment(polarity=-0.3166666666666667, subjectivity=0.3)\n",
      "Negatively subjective\n",
      "\n",
      "\n",
      "RT @CrispinBlunt: Support  May’s deal, ergo drive DUP support away, but we mustn’t have early election.  Spot the problem with this thesis?…\n",
      "Sentiment(polarity=0.1, subjectivity=0.3)\n",
      "Subjective\n",
      "\n",
      "\n",
      "These are your voting preferences in the EU elections:\n",
      "\n",
      "LibDems - Pro EU anti Brexit\n",
      "\n",
      "Greens    - Pro EU anti Brexi… https://t.co/LAb7xfpwuC\n",
      "Sentiment(polarity=0.0, subjectivity=0.0)\n",
      "objective\n",
      "\n",
      "\n",
      "RT @JolyonMaugham: By pretending cheating doesn't matter, by talking of the \"will of the people\", by asserting there's a \"good Brexit\", by…\n",
      "Sentiment(polarity=0.7, subjectivity=0.6000000000000001)\n",
      "Subjective\n",
      "\n",
      "\n",
      "RT @TheGreenParty: Well said @MollyMEP 👏👏👏\n",
      "\n",
      "Say no to Brexit and no to climate change. Vote Green on Thursday 🗳️ https://t.co/QjImNncu22\n",
      "Sentiment(polarity=-0.2, subjectivity=0.3)\n",
      "Negatively subjective\n",
      "\n",
      "\n",
      "RT @petertimmins3: Does anyone know when the WTO elections are?\n",
      "Asking for the #Brexit party who seem to think it's a better option than th…\n",
      "Sentiment(polarity=0.5, subjectivity=0.5)\n",
      "Subjective\n",
      "\n",
      "\n",
      "Brexit: Revoke Article 50 as no time left for second referendum, says Change UK\n",
      "https://t.co/DoGVinDOdF\n",
      "+1 UKBot #UK #news\n",
      "Sentiment(polarity=0.0, subjectivity=0.0)\n",
      "objective\n",
      "\n",
      "\n",
      "@Alyoshechka @HenryStapleton7 @guardian @ExeterCathedral Ok so there have been a few rowdy left wing protests again… https://t.co/SdSmSH4Md3\n",
      "Sentiment(polarity=0.09999999999999999, subjectivity=0.19999999999999998)\n",
      "Subjective\n",
      "\n",
      "\n",
      "@markwh2001 @LeaveEUOfficial @ByDonkeys @carolecadwalla @DamianCollins @ElectoralCommUK Many people still want to l… https://t.co/h7cbUZDl7I\n",
      "Sentiment(polarity=0.5, subjectivity=0.5)\n",
      "Subjective\n",
      "\n",
      "\n",
      "Guy Verhofstadt: ‘If you want to see what nationalists have done, come to Britain' | Politics | The Guardian. A lon… https://t.co/I0RGpITb5c\n",
      "Sentiment(polarity=0.0, subjectivity=0.0)\n",
      "objective\n",
      "\n",
      "\n",
      "@BBCPolitics If they have as much movement as your Brexit policies, nobody has anything to worry about...\n",
      "Sentiment(polarity=0.2, subjectivity=0.2)\n",
      "Subjective\n",
      "\n",
      "\n",
      "RT @gerardjasper: Watching the Anti Brexit show on the BBC.\n",
      "Normally called The Andrew Marr Show.\n",
      "\n",
      "Chucka the loony —revoke Article 50\n",
      "\n",
      "Vin…\n",
      "Sentiment(polarity=0.15, subjectivity=0.6499999999999999)\n",
      "Subjective\n",
      "\n",
      "\n",
      "objective_tweets : 3\n",
      "subjective_tweets : 7\n",
      "negitively_subjective tweets: 2\n"
     ]
    }
   ],
   "source": [
    "objective_tweet=0\n",
    "subjective_tweet=0\n",
    "negitively_subjective=0\n",
    "for tweet in public_tweets:\n",
    "    print(tweet.text)\n",
    "    analysis = TextBlob(tweet.text)\n",
    "    print(analysis.sentiment)\n",
    "    if analysis.sentiment[0]>0:\n",
    "       subjective_tweet = subjective_tweet + 1\n",
    "       print('Subjective')\n",
    "    elif analysis.sentiment[0]<0:\n",
    "       negitively_subjective = negitively_subjective  + 1\n",
    "       print('Negatively subjective')\n",
    "    else:\n",
    "       objective_tweet = objective_tweet + 1\n",
    "       print('objective')\n",
    "    print('\\n')\n",
    "    \n",
    "print('objective_tweets : '+str(objective_tweet))\n",
    "print('subjective_tweets : '+str(subjective_tweet))\n",
    "print('negitively_subjective tweets: '+str(negitively_subjective))"
   ]
  },
  {
   "cell_type": "markdown",
   "metadata": {
    "collapsed": true
   },
   "source": [
    "# SAMPLE"
   ]
  },
  {
   "cell_type": "code",
   "execution_count": 19,
   "metadata": {},
   "outputs": [
    {
     "data": {
      "text/plain": [
       "'All MSM news outlets are in full overdrive today with anti Brexit guests. This is the last weekend to get the direc… https://t.co/7YJQUxtzKT'"
      ]
     },
     "execution_count": 19,
     "metadata": {},
     "output_type": "execute_result"
    }
   ],
   "source": [
    "status_array[3]['text']"
   ]
  },
  {
   "cell_type": "code",
   "execution_count": 20,
   "metadata": {},
   "outputs": [
    {
     "name": "stdout",
     "output_type": "stream",
     "text": [
      "length of retweeted array: 1318\n",
      "most number of retweets: 0 at index 0\n",
      "The person who tweeted it was KimSussex3\n",
      "Their screename is\" Kim Sussex#FBPE\n",
      "There tweet was : \n",
      "RT @derekjames150: Watching Andrew Marr's show this morning, the three women reviewing the papers were all right extolling the \"virtues\" of…\n"
     ]
    }
   ],
   "source": [
    "retweet_array= []\n",
    "for current in range(0, len(status_array)):\n",
    "    retweet_array.append(status_array[current]['retweet_count'])\n",
    "    \n",
    "print('length of retweeted array: ' + str(len(retweet_array)))\n",
    "most_retweeted = max(retweet_array)\n",
    "print(\"most number of retweets: \" + str(most_retweeted) + \" at index \" + str(retweet_array.index(max(retweet_array))))\n",
    "print('The person who tweeted it was ' + str(status_array[retweet_array.index(max(retweet_array))]['user']['screen_name']))\n",
    "print('Their screename is\" ' + str(status_array[retweet_array.index(max(retweet_array))]['user']['name']))\n",
    "print('There tweet was : ')\n",
    "print(status_array[retweet_array.index(max(retweet_array))]['text'])"
   ]
  },
  {
   "cell_type": "code",
   "execution_count": 21,
   "metadata": {},
   "outputs": [
    {
     "data": {
      "text/plain": [
       "'RT @derekjames150: Watching Andrew Marr\\'s show this morning, the three women reviewing the papers were all right extolling the \"virtues\" of…'"
      ]
     },
     "execution_count": 21,
     "metadata": {},
     "output_type": "execute_result"
    }
   ],
   "source": [
    "status_array[retweet_array.index(max(retweet_array))]['text']"
   ]
  },
  {
   "cell_type": "code",
   "execution_count": 25,
   "metadata": {},
   "outputs": [
    {
     "data": {
      "text/plain": [
       "0"
      ]
     },
     "execution_count": 25,
     "metadata": {},
     "output_type": "execute_result"
    }
   ],
   "source": []
  },
  {
   "cell_type": "code",
   "execution_count": null,
   "metadata": {
    "collapsed": true
   },
   "outputs": [],
   "source": []
  }
 ],
 "metadata": {
  "kernelspec": {
   "display_name": "Python 3",
   "language": "python",
   "name": "python3"
  },
  "language_info": {
   "codemirror_mode": {
    "name": "ipython",
    "version": 3
   },
   "file_extension": ".py",
   "mimetype": "text/x-python",
   "name": "python",
   "nbconvert_exporter": "python",
   "pygments_lexer": "ipython3",
   "version": "3.6.1"
  }
 },
 "nbformat": 4,
 "nbformat_minor": 2
}
